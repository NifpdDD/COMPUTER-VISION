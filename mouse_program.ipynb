{
 "cells": [
  {
   "cell_type": "code",
   "execution_count": 72,
   "id": "initial_id",
   "metadata": {
    "collapsed": true,
    "ExecuteTime": {
     "end_time": "2024-06-22T20:50:48.014289700Z",
     "start_time": "2024-06-22T20:50:47.990280300Z"
    }
   },
   "outputs": [],
   "source": [
    "\n",
    "import torch\n",
    "import os\n",
    "import segmentation_models_pytorch as smp\n",
    "import torchvision.transforms as transforms\n",
    "import cv2\n",
    "import numpy as np\n",
    "from PIL import Image\n",
    "import torch"
   ]
  },
  {
   "cell_type": "code",
   "execution_count": 73,
   "outputs": [
    {
     "data": {
      "text/plain": "<All keys matched successfully>"
     },
     "execution_count": 73,
     "metadata": {},
     "output_type": "execute_result"
    }
   ],
   "source": [
    "device = torch.device(\"cuda\" if torch.cuda.is_available() else \"cpu\")\n",
    "model = smp.UnetPlusPlus('efficientnet-b4', classes=1).to(device)\n",
    "model.load_state_dict(torch.load(\"gay_sex.pth\"))"
   ],
   "metadata": {
    "collapsed": false,
    "ExecuteTime": {
     "end_time": "2024-06-22T20:50:49.074257600Z",
     "start_time": "2024-06-22T20:50:48.508140100Z"
    }
   },
   "id": "ba9ade54815709d0"
  },
  {
   "cell_type": "code",
   "execution_count": 74,
   "outputs": [],
   "source": [
    "folder = 'МЫШИПТУ'\n",
    "video_name = 'porno.m4v'\n",
    "video_path = os.path.join(folder, video_name)\n",
    "model.eval()\n",
    "\n",
    "size = (320, 544)\n",
    "mean=[0.485, 0.456, 0.406]\n",
    "std=[0.229, 0.224, 0.225]\n",
    "\n",
    "preprocess  = transforms.Compose([transforms.Resize(size), transforms.ToTensor(), transforms.Normalize(mean=mean, std=std)])\n",
    "output_path = f'segmented_video_{video_name}.mp4'\n",
    "show = True"
   ],
   "metadata": {
    "collapsed": false,
    "ExecuteTime": {
     "end_time": "2024-06-22T20:50:49.150801600Z",
     "start_time": "2024-06-22T20:50:49.125862100Z"
    }
   },
   "id": "7a72548e22f8abe3"
  },
  {
   "cell_type": "code",
   "execution_count": 75,
   "outputs": [],
   "source": [
    "video_capture = cv2.VideoCapture(video_path)\n",
    "if not video_capture.isOpened():\n",
    "    print(\"Ошибка: Невозможно открыть видео.\")\n",
    "    exit()\n",
    "\n",
    "fourcc = cv2.VideoWriter_fourcc(*'mp4v')\n",
    "frame_width = int(video_capture.get(cv2.CAP_PROP_FRAME_WIDTH))\n",
    "frame_height = int(video_capture.get(cv2.CAP_PROP_FRAME_HEIGHT))\n",
    "fps = video_capture.get(cv2.CAP_PROP_FPS)\n",
    "output_video = cv2.VideoWriter(output_path, fourcc, fps, (frame_width, frame_height))\n",
    "\n",
    "show_output = True  # Define show_output as True or False based on your requirement\n",
    "\n",
    "while video_capture.isOpened():\n",
    "    ret, frame = video_capture.read()\n",
    "    if not ret:\n",
    "        break\n",
    "\n",
    "    image = Image.fromarray(cv2.cvtColor(frame, cv2.COLOR_BGR2RGB))\n",
    "    input_tensor = preprocess(image).unsqueeze(0).to(device)\n",
    "    with torch.no_grad():\n",
    "        result = model(input_tensor).cpu().numpy().squeeze()\n",
    "    mask = (result > 0).astype(np.uint8)\n",
    "    resized_mask = cv2.resize((mask * 255).astype(np.uint8), (frame_width, frame_height))\n",
    "\n",
    "    overlay = np.zeros_like(frame)\n",
    "    overlay[resized_mask == 255] = [255, 255, 255]\n",
    "\n",
    "    output_video.write(overlay)\n",
    "\n",
    "    if show_output:\n",
    "        cv2.imshow('Segmented Video', overlay)\n",
    "        if cv2.waitKey(1) & 0xFF == ord('q'):\n",
    "            break\n",
    "\n",
    "video_capture.release()\n",
    "output_video.release()\n",
    "cv2.destroyAllWindows()\n"
   ],
   "metadata": {
    "collapsed": false,
    "ExecuteTime": {
     "end_time": "2024-06-22T20:54:33.163514200Z",
     "start_time": "2024-06-22T20:50:49.850593800Z"
    }
   },
   "id": "84a0449742866c32"
  },
  {
   "cell_type": "code",
   "execution_count": null,
   "outputs": [],
   "source": [],
   "metadata": {
    "collapsed": false,
    "ExecuteTime": {
     "start_time": "2024-06-22T20:43:30.852065Z"
    }
   },
   "id": "ba06837cd48d8906"
  }
 ],
 "metadata": {
  "kernelspec": {
   "display_name": "Python 3",
   "language": "python",
   "name": "python3"
  },
  "language_info": {
   "codemirror_mode": {
    "name": "ipython",
    "version": 2
   },
   "file_extension": ".py",
   "mimetype": "text/x-python",
   "name": "python",
   "nbconvert_exporter": "python",
   "pygments_lexer": "ipython2",
   "version": "2.7.6"
  }
 },
 "nbformat": 4,
 "nbformat_minor": 5
}
